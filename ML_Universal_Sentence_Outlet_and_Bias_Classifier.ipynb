{
  "nbformat": 4,
  "nbformat_minor": 0,
  "metadata": {
    "colab": {
      "name": " ML Universal Sentence Outlet and Bias Classifier.ipynb",
      "provenance": [],
      "collapsed_sections": [],
      "include_colab_link": true
    },
    "kernelspec": {
      "display_name": "Python 3",
      "name": "python3"
    },
    "language_info": {
      "name": "python"
    }
  },
  "cells": [
    {
      "cell_type": "markdown",
      "metadata": {
        "id": "view-in-github",
        "colab_type": "text"
      },
      "source": [
        "<a href=\"https://colab.research.google.com/github/sowmyakovur20/ML-Projects/blob/main/ML_Universal_Sentence_Outlet_and_Bias_Classifier.ipynb\" target=\"_parent\"><img src=\"https://colab.research.google.com/assets/colab-badge.svg\" alt=\"Open In Colab\"/></a>"
      ]
    },
    {
      "cell_type": "code",
      "metadata": {
        "id": "-3zGkUl9kCix"
      },
      "source": [
        "!pip3 install tensorflow_text>=2.0.0rc0"
      ],
      "execution_count": null,
      "outputs": []
    },
    {
      "cell_type": "code",
      "metadata": {
        "colab": {
          "base_uri": "https://localhost:8080/"
        },
        "id": "SbLbDMiikYrZ",
        "outputId": "9df063e9-c6e6-4ddd-e119-6c81d4741bdd"
      },
      "source": [
        "!pip3 install tf_sentencepiece"
      ],
      "execution_count": null,
      "outputs": [
        {
          "output_type": "stream",
          "text": [
            "Requirement already satisfied: tf_sentencepiece in /usr/local/lib/python3.7/dist-packages (0.1.90)\n"
          ],
          "name": "stdout"
        }
      ]
    },
    {
      "cell_type": "code",
      "metadata": {
        "id": "bLgb-FoOkb1x"
      },
      "source": [
        "import numpy as np\n",
        "import pandas as pd\n",
        "import seaborn as sns\n",
        "import matplotlib.pyplot as plt\n",
        "import random\n",
        "\n",
        "\n",
        "# Keras (2.2.4) and tensorflow (1.13).\n",
        "import tensorflow as tf\n",
        "import tensorflow_hub as hub\n",
        "#import tf_sentencepiece\n",
        "\n",
        "from keras.regularizers import l1, l2\n",
        "from keras.models import Sequential\n",
        "from keras.layers import Dense\n",
        "from keras.layers import Dropout\n",
        "from keras import backend\n",
        "from keras import optimizers\n",
        "\n",
        "#sklearn and imblearn modules:\n",
        "from sklearn.model_selection import cross_val_predict\n",
        "from sklearn.preprocessing import StandardScaler\n",
        "from sklearn.model_selection import StratifiedShuffleSplit\n",
        "from imblearn.over_sampling import SMOTE\n",
        "\n",
        "#Import SVM\n",
        "from sklearn.svm import SVC, LinearSVC\n",
        "from sklearn import svm\n",
        "from sklearn.feature_selection import RFE\n",
        "from sklearn.tree import DecisionTreeClassifier\n",
        "import graphviz\n",
        "from sklearn.model_selection import cross_val_score\n",
        "from sklearn.ensemble import RandomForestClassifier\n",
        "from sklearn.feature_selection import RFE\n",
        "from sklearn.neighbors import KNeighborsClassifier\n",
        "from sklearn.linear_model import SGDClassifier\n"
      ],
      "execution_count": null,
      "outputs": []
    },
    {
      "cell_type": "code",
      "metadata": {
        "id": "DZk69fCpkfSC"
      },
      "source": [
        "dataset_df = pd.read_csv('/content/drive/MyDrive/archive1/articles1.csv')"
      ],
      "execution_count": null,
      "outputs": []
    },
    {
      "cell_type": "code",
      "metadata": {
        "colab": {
          "base_uri": "https://localhost:8080/"
        },
        "id": "xRO-ZxQ4l0z2",
        "outputId": "cd960dc8-e21e-4430-ac0f-0207e7ff5045"
      },
      "source": [
        "dataset_df.info()"
      ],
      "execution_count": null,
      "outputs": [
        {
          "output_type": "stream",
          "text": [
            "<class 'pandas.core.frame.DataFrame'>\n",
            "RangeIndex: 50000 entries, 0 to 49999\n",
            "Data columns (total 10 columns):\n",
            " #   Column       Non-Null Count  Dtype  \n",
            "---  ------       --------------  -----  \n",
            " 0   Unnamed: 0   50000 non-null  int64  \n",
            " 1   id           50000 non-null  int64  \n",
            " 2   title        50000 non-null  object \n",
            " 3   publication  50000 non-null  object \n",
            " 4   author       43694 non-null  object \n",
            " 5   date         50000 non-null  object \n",
            " 6   year         50000 non-null  float64\n",
            " 7   month        50000 non-null  float64\n",
            " 8   url          0 non-null      float64\n",
            " 9   content      50000 non-null  object \n",
            "dtypes: float64(3), int64(2), object(5)\n",
            "memory usage: 3.8+ MB\n"
          ],
          "name": "stdout"
        }
      ]
    },
    {
      "cell_type": "code",
      "metadata": {
        "colab": {
          "base_uri": "https://localhost:8080/",
          "height": 195
        },
        "id": "nui_OP2Tl29I",
        "outputId": "21e06786-68e0-4192-c5b9-91fcd079a6ae"
      },
      "source": [
        "dataset_df.head()"
      ],
      "execution_count": null,
      "outputs": [
        {
          "output_type": "execute_result",
          "data": {
            "text/html": [
              "<div>\n",
              "<style scoped>\n",
              "    .dataframe tbody tr th:only-of-type {\n",
              "        vertical-align: middle;\n",
              "    }\n",
              "\n",
              "    .dataframe tbody tr th {\n",
              "        vertical-align: top;\n",
              "    }\n",
              "\n",
              "    .dataframe thead th {\n",
              "        text-align: right;\n",
              "    }\n",
              "</style>\n",
              "<table border=\"1\" class=\"dataframe\">\n",
              "  <thead>\n",
              "    <tr style=\"text-align: right;\">\n",
              "      <th></th>\n",
              "      <th>Unnamed: 0</th>\n",
              "      <th>id</th>\n",
              "      <th>title</th>\n",
              "      <th>publication</th>\n",
              "      <th>author</th>\n",
              "      <th>date</th>\n",
              "      <th>year</th>\n",
              "      <th>month</th>\n",
              "      <th>url</th>\n",
              "      <th>content</th>\n",
              "    </tr>\n",
              "  </thead>\n",
              "  <tbody>\n",
              "    <tr>\n",
              "      <th>0</th>\n",
              "      <td>0</td>\n",
              "      <td>17283</td>\n",
              "      <td>House Republicans Fret About Winning Their Hea...</td>\n",
              "      <td>New York Times</td>\n",
              "      <td>Carl Hulse</td>\n",
              "      <td>2016-12-31</td>\n",
              "      <td>2016.0</td>\n",
              "      <td>12.0</td>\n",
              "      <td>NaN</td>\n",
              "      <td>WASHINGTON  —   Congressional Republicans have...</td>\n",
              "    </tr>\n",
              "    <tr>\n",
              "      <th>1</th>\n",
              "      <td>1</td>\n",
              "      <td>17284</td>\n",
              "      <td>Rift Between Officers and Residents as Killing...</td>\n",
              "      <td>New York Times</td>\n",
              "      <td>Benjamin Mueller and Al Baker</td>\n",
              "      <td>2017-06-19</td>\n",
              "      <td>2017.0</td>\n",
              "      <td>6.0</td>\n",
              "      <td>NaN</td>\n",
              "      <td>After the bullet shells get counted, the blood...</td>\n",
              "    </tr>\n",
              "    <tr>\n",
              "      <th>2</th>\n",
              "      <td>2</td>\n",
              "      <td>17285</td>\n",
              "      <td>Tyrus Wong, ‘Bambi’ Artist Thwarted by Racial ...</td>\n",
              "      <td>New York Times</td>\n",
              "      <td>Margalit Fox</td>\n",
              "      <td>2017-01-06</td>\n",
              "      <td>2017.0</td>\n",
              "      <td>1.0</td>\n",
              "      <td>NaN</td>\n",
              "      <td>When Walt Disney’s “Bambi” opened in 1942, cri...</td>\n",
              "    </tr>\n",
              "    <tr>\n",
              "      <th>3</th>\n",
              "      <td>3</td>\n",
              "      <td>17286</td>\n",
              "      <td>Among Deaths in 2016, a Heavy Toll in Pop Musi...</td>\n",
              "      <td>New York Times</td>\n",
              "      <td>William McDonald</td>\n",
              "      <td>2017-04-10</td>\n",
              "      <td>2017.0</td>\n",
              "      <td>4.0</td>\n",
              "      <td>NaN</td>\n",
              "      <td>Death may be the great equalizer, but it isn’t...</td>\n",
              "    </tr>\n",
              "    <tr>\n",
              "      <th>4</th>\n",
              "      <td>4</td>\n",
              "      <td>17287</td>\n",
              "      <td>Kim Jong-un Says North Korea Is Preparing to T...</td>\n",
              "      <td>New York Times</td>\n",
              "      <td>Choe Sang-Hun</td>\n",
              "      <td>2017-01-02</td>\n",
              "      <td>2017.0</td>\n",
              "      <td>1.0</td>\n",
              "      <td>NaN</td>\n",
              "      <td>SEOUL, South Korea  —   North Korea’s leader, ...</td>\n",
              "    </tr>\n",
              "  </tbody>\n",
              "</table>\n",
              "</div>"
            ],
            "text/plain": [
              "   Unnamed: 0     id  ... url                                            content\n",
              "0           0  17283  ... NaN  WASHINGTON  —   Congressional Republicans have...\n",
              "1           1  17284  ... NaN  After the bullet shells get counted, the blood...\n",
              "2           2  17285  ... NaN  When Walt Disney’s “Bambi” opened in 1942, cri...\n",
              "3           3  17286  ... NaN  Death may be the great equalizer, but it isn’t...\n",
              "4           4  17287  ... NaN  SEOUL, South Korea  —   North Korea’s leader, ...\n",
              "\n",
              "[5 rows x 10 columns]"
            ]
          },
          "metadata": {
            "tags": []
          },
          "execution_count": 59
        }
      ]
    },
    {
      "cell_type": "code",
      "metadata": {
        "id": "8W92mNJIl5PN"
      },
      "source": [
        "#taking 40% of the total dataset\n",
        "p = 0.4\n",
        "#import random\n",
        "random_df = pd.read_csv('/content/drive/MyDrive/archive1/articles1.csv',header=None,skiprows=lambda i: 1>0 and random.random() > p)\n",
        "news_atlantic = random_df[random_df[3] == 'Atlantic']\n",
        "news_newyorkp = random_df[random_df[3] == 'Business Insider']\n",
        "n_s_breit = random_df[random_df[3] == 'Breitbart']\n",
        "n_s_newyorkt = random_df[random_df[3] == 'New York Times']"
      ],
      "execution_count": null,
      "outputs": []
    },
    {
      "cell_type": "code",
      "metadata": {
        "colab": {
          "base_uri": "https://localhost:8080/"
        },
        "id": "OfN0jj2Zl7we",
        "outputId": "8ba327e5-66d7-4e32-e3f4-7ee39aa05239"
      },
      "source": [
        "print(news_atlantic)"
      ],
      "execution_count": null,
      "outputs": [
        {
          "output_type": "stream",
          "text": [
            "           0      1  ...   8                                                  9\n",
            "19907  53121  73207  ... NaN  George Michael Mattered Beyond the MusicWesley...\n",
            "19908  53123  73209  ... NaN  As a writer, I generally favor words over numb...\n",
            "19909  53125  73211  ... NaN  If recent measures of public opinion hold, Pre...\n",
            "19910  53128  73214  ... NaN  The end of the year is a time for taking stock...\n",
            "19911  53131  73217  ... NaN     Future nuclear missiles may be siloed but, ...\n",
            "...      ...    ...  ...  ..                                                ...\n",
            "19965  53283  73461  ... NaN          This article is part of a feature we a...\n",
            "19966  53284  73462  ... NaN  President Obama’s farewell speech was an exerc...\n",
            "19967  53286  73464  ... NaN  A large cohort of Americans have reservations ...\n",
            "19968  53288  73466  ... NaN  I’ve spent nearly 20 years looking at intellig...\n",
            "19969  53289  73467  ... NaN    Donald Trump will not be taking necessary st...\n",
            "\n",
            "[63 rows x 10 columns]\n"
          ],
          "name": "stdout"
        }
      ]
    },
    {
      "cell_type": "code",
      "metadata": {
        "colab": {
          "base_uri": "https://localhost:8080/"
        },
        "id": "Nv1gVsFQl8sw",
        "outputId": "8ff2a179-4da4-4ad6-b20d-8f6a819298d4"
      },
      "source": [
        "print(n_s_newyorkt)"
      ],
      "execution_count": null,
      "outputs": [
        {
          "output_type": "stream",
          "text": [
            "         0      1  ...   8                                                  9\n",
            "0        0  17283  ... NaN  WASHINGTON  —   Congressional Republicans have...\n",
            "1        3  17286  ... NaN  Death may be the great equalizer, but it isn’t...\n",
            "2        4  17287  ... NaN  SEOUL, South Korea  —   North Korea’s leader, ...\n",
            "3        9  17292  ... NaN  Angels are everywhere in the Muñiz family’s ap...\n",
            "4       10  17293  ... NaN  With Donald J. Trump about to take control of ...\n",
            "...    ...    ...  ...  ..                                                ...\n",
            "3093  7792  26523  ... NaN  “The cameras are over,” Garth Brooks said late...\n",
            "3094  7797  26532  ... NaN  RIO DE JANEIRO  —   Ashton Eaton likes to view...\n",
            "3095  7799  26534  ... NaN  A federal judge on Friday curbed the enforceme...\n",
            "3096  7800  26536  ... NaN  MEXICO CITY  —   If President Enrique Peña Nie...\n",
            "3097  7801  26537  ... NaN  HANGZHOU, China  —   The image of a    Syrian ...\n",
            "\n",
            "[3098 rows x 10 columns]\n"
          ],
          "name": "stdout"
        }
      ]
    },
    {
      "cell_type": "code",
      "metadata": {
        "id": "QE1hZV_Al_9n"
      },
      "source": [
        "#Creating one single large array containing all the stories\n",
        "one_big_array = list(news_atlantic.iloc[:,9].values) + list(news_newyorkp.iloc[:,9].values) \\\n",
        " + list(n_s_breit.iloc[:,9].values) + list(n_s_newyorkt.iloc[:,9].values)"
      ],
      "execution_count": null,
      "outputs": []
    },
    {
      "cell_type": "code",
      "metadata": {
        "id": "Wpmq-CtHmB5D"
      },
      "source": [
        "#Remove the repeated words from the one_big_array\n",
        "one_big_array = [word.replace('Business Insider','') for word in one_big_array]\n",
        "one_big_array = [word.replace('Breitbart','') for word in one_big_array]\n",
        "one_big_array = [word.replace('New York Times','') for word in one_big_array]\n",
        "one_big_array = [word.replace('Atlantic','') for word in one_big_array]"
      ],
      "execution_count": null,
      "outputs": []
    },
    {
      "cell_type": "code",
      "metadata": {
        "id": "aFYBERJGmEAn"
      },
      "source": [
        "#Create two arrays one based on article classifier and another based on the bias\n",
        "#Outlet classifier:\n",
        "classes_outlet_classifier = np.asarray([1 for i in range(len(n_s_breit))] + \\\n",
        "[2 for i in range(len(news_newyorkp))] + [3 for i in range(len(news_atlantic))] + \\\n",
        "[4 for i in range(len(n_s_newyorkt))])\n",
        "#Bias classifier:\n",
        "classes_bias_classifier = np.asarray([1 for i in range(len(n_s_breit))] + \\\n",
        "[1 for i in range(len(news_newyorkp))] + [2 for i in range(len(news_atlantic))] + \\\n",
        "[2 for i in range(len(n_s_newyorkt))])"
      ],
      "execution_count": null,
      "outputs": []
    },
    {
      "cell_type": "code",
      "metadata": {
        "colab": {
          "base_uri": "https://localhost:8080/"
        },
        "id": "-6gg9lZamGLi",
        "outputId": "249a5680-f67b-463f-dd1e-52e39ba0d8ac"
      },
      "source": [
        "classes_outlet_classifier[:2500]"
      ],
      "execution_count": null,
      "outputs": [
        {
          "output_type": "execute_result",
          "data": {
            "text/plain": [
              "array([1, 1, 1, ..., 1, 1, 1])"
            ]
          },
          "metadata": {
            "tags": []
          },
          "execution_count": 66
        }
      ]
    },
    {
      "cell_type": "code",
      "metadata": {
        "id": "rtjx0FQHmIJo"
      },
      "source": [
        "s = set(classes_outlet_classifier)"
      ],
      "execution_count": null,
      "outputs": []
    },
    {
      "cell_type": "code",
      "metadata": {
        "colab": {
          "base_uri": "https://localhost:8080/"
        },
        "id": "6cZVsqi3mKlW",
        "outputId": "59f06175-50f2-4127-f7f0-60290f1489e3"
      },
      "source": [
        "print(s)"
      ],
      "execution_count": null,
      "outputs": [
        {
          "output_type": "stream",
          "text": [
            "{1, 2, 3, 4}\n"
          ],
          "name": "stdout"
        }
      ]
    },
    {
      "cell_type": "code",
      "metadata": {
        "colab": {
          "base_uri": "https://localhost:8080/"
        },
        "id": "HD-vayp9mM73",
        "outputId": "48e4ff14-0822-47e6-969b-c1357c9222c0"
      },
      "source": [
        "print(classes_bias_classifier)"
      ],
      "execution_count": null,
      "outputs": [
        {
          "output_type": "stream",
          "text": [
            "[1 1 1 ... 2 2 2]\n"
          ],
          "name": "stdout"
        }
      ]
    },
    {
      "cell_type": "code",
      "metadata": {
        "id": "JSvx6j8TmPIf"
      },
      "source": [
        "import tensorflow.compat.v1 as tf\n",
        "tf.disable_v2_behavior()"
      ],
      "execution_count": null,
      "outputs": []
    },
    {
      "cell_type": "code",
      "metadata": {
        "colab": {
          "base_uri": "https://localhost:8080/"
        },
        "id": "PLS5CQdKmRnO",
        "outputId": "14c01117-1690-45d8-8c51-32dce0520e30"
      },
      "source": [
        "# Embeds the input word\n",
        "# Load the encoder:\n",
        "g = tf.Graph()\n",
        "with g.as_default():\n",
        "  text_input = tf.placeholder(dtype=tf.string, shape=[None])\n",
        "  embed = hub.Module(\"https://tfhub.dev/google/universal-sentence-encoder-large/3\")\n",
        "  embedded_text = embed(text_input)\n",
        "  init_op = tf.group([tf.global_variables_initializer(), tf.tables_initializer()])\n",
        "g.finalize()\n",
        "\n",
        "# Initialize session:\n",
        "session = tf.Session(graph=g)\n",
        "session.run(init_op)\n",
        "\n",
        "#Function to compute all embeddings for each sentence:\n",
        "#Be patient, takes a little while:\n",
        "def similarity_matrix(merge_list):\n",
        "    #initialize distance array:\n",
        "    #initialize embeddings array:\n",
        "    emb_all = np.zeros([len(merge_list),512])\n",
        "    #Outer for loop:\n",
        "    for i in range(0,len(merge_list)):\n",
        "        #Here is where we run the previously started session, so it is important to run previous step succesfully:\n",
        "        i_emb = session.run(embedded_text, feed_dict={text_input: [merge_list[i]]})\n",
        "        emb_all[i,:] = i_emb\n",
        "    return emb_all"
      ],
      "execution_count": null,
      "outputs": [
        {
          "output_type": "stream",
          "text": [
            "INFO:tensorflow:Saver not created because there are no variables in the graph to restore\n"
          ],
          "name": "stdout"
        },
        {
          "output_type": "stream",
          "text": [
            "INFO:tensorflow:Saver not created because there are no variables in the graph to restore\n"
          ],
          "name": "stderr"
        }
      ]
    },
    {
      "cell_type": "code",
      "metadata": {
        "id": "WaIL5PKvmUcX"
      },
      "source": [
        "feature_array = similarity_matrix(one_big_array)"
      ],
      "execution_count": null,
      "outputs": []
    },
    {
      "cell_type": "code",
      "metadata": {
        "id": "uug5SnMJmWZS"
      },
      "source": [
        "#Choose optimizer:\n",
        "optim = optimizers.Adam(lr=0.00015) \n",
        "\n",
        "# create NN for news clissification:\n",
        "news_ANN = Sequential()\n",
        "news_ANN.add(Dense(40, input_dim=512, activation = 'relu',kernel_regularizer=l2(0.1)))\n",
        "news_ANN.add(Dropout(0.25))\n",
        "news_ANN.add(Dense(40, activation = 'relu',kernel_regularizer=l2(0.1)))\n",
        "news_ANN.add(Dropout(0.25))\n",
        "\n",
        "\n",
        "# Output layer with multiclass activation function:\n",
        "news_ANN.add(Dense(4,activation='softmax'))\n",
        "\n",
        "# Compile model:\n",
        "news_ANN.compile(loss='sparse_categorical_crossentropy', optimizer=optim, metrics=['acc'])"
      ],
      "execution_count": null,
      "outputs": []
    },
    {
      "cell_type": "code",
      "metadata": {
        "colab": {
          "base_uri": "https://localhost:8080/"
        },
        "id": "iNrBubtTmZUD",
        "outputId": "c59baed1-5b41-4a1f-ada9-1a6b67bc6600"
      },
      "source": [
        "pip install sklearn"
      ],
      "execution_count": null,
      "outputs": [
        {
          "output_type": "stream",
          "text": [
            "Requirement already satisfied: sklearn in /usr/local/lib/python3.7/dist-packages (0.0)\n",
            "Requirement already satisfied: scikit-learn in /usr/local/lib/python3.7/dist-packages (from sklearn) (0.22.2.post1)\n",
            "Requirement already satisfied: numpy>=1.11.0 in /usr/local/lib/python3.7/dist-packages (from scikit-learn->sklearn) (1.19.5)\n",
            "Requirement already satisfied: joblib>=0.11 in /usr/local/lib/python3.7/dist-packages (from scikit-learn->sklearn) (1.0.1)\n",
            "Requirement already satisfied: scipy>=0.17.0 in /usr/local/lib/python3.7/dist-packages (from scikit-learn->sklearn) (1.4.1)\n"
          ],
          "name": "stdout"
        }
      ]
    },
    {
      "cell_type": "code",
      "metadata": {
        "id": "Q8wU6mn_mbJF"
      },
      "source": [
        "# split into shuffled folds:\n",
        "#Note that you should edit the class array accordingly: Bias (classes_Bias) or Outlet (classes_All)\n",
        "#Scaler = MinMaxScaler()\n",
        "import sklearn\n",
        "split_shuffle = StratifiedShuffleSplit(n_splits=1, test_size=0.33) # choose one split to make analysis faster. change it if required\n",
        "for train, test in split_shuffle.split(feature_array,classes_outlet_classifier):\n",
        "  # Scale the data with StandardScaler before splitting:\n",
        "    x_train, x_test = sklearn.preprocessing.StandardScaler().fit_transform(feature_array)[train], \\\n",
        "    sklearn.preprocessing.StandardScaler().fit_transform(feature_array)[test]\n",
        "\n",
        "    y_train, y_test = classes_outlet_classifier[train]-1,classes_outlet_classifier[test]-1\n"
      ],
      "execution_count": null,
      "outputs": []
    },
    {
      "cell_type": "code",
      "metadata": {
        "colab": {
          "base_uri": "https://localhost:8080/"
        },
        "id": "fMtDfv-amdb2",
        "outputId": "e5773371-fb1a-4154-efc7-53483edbec6d"
      },
      "source": [
        "#fit the network. You can change parameters to see how this affects your training.\n",
        "m_h = news_ANN.fit(x_train, y_train, epochs=400, \\\n",
        "validation_data=(x_test, y_test), batch_size=32, verbose=0)"
      ],
      "execution_count": null,
      "outputs": [
        {
          "output_type": "stream",
          "text": [
            "/usr/local/lib/python3.7/dist-packages/tensorflow/python/keras/engine/training.py:2325: UserWarning: `Model.state_updates` will be removed in a future version. This property should not be used in TensorFlow 2.0, as `updates` are applied automatically.\n",
            "  warnings.warn('`Model.state_updates` will be removed in a future version. '\n"
          ],
          "name": "stderr"
        }
      ]
    },
    {
      "cell_type": "code",
      "metadata": {
        "colab": {
          "base_uri": "https://localhost:8080/"
        },
        "id": "qh0pn6M6mfOm",
        "outputId": "84a9e054-c1e7-45ad-df69-434a20075fd0"
      },
      "source": [
        "from sklearn.metrics import f1_score\n",
        "f1_score(y_test,news_ANN.predict_classes(x_test),average='weighted')"
      ],
      "execution_count": null,
      "outputs": [
        {
          "output_type": "stream",
          "text": [
            "/usr/local/lib/python3.7/dist-packages/tensorflow/python/keras/engine/sequential.py:450: UserWarning: `model.predict_classes()` is deprecated and will be removed after 2021-01-01. Please use instead:* `np.argmax(model.predict(x), axis=-1)`,   if your model does multi-class classification   (e.g. if it uses a `softmax` last-layer activation).* `(model.predict(x) > 0.5).astype(\"int32\")`,   if your model does binary classification   (e.g. if it uses a `sigmoid` last-layer activation).\n",
            "  warnings.warn('`model.predict_classes()` is deprecated and '\n",
            "/usr/local/lib/python3.7/dist-packages/tensorflow/python/keras/engine/training.py:2325: UserWarning: `Model.state_updates` will be removed in a future version. This property should not be used in TensorFlow 2.0, as `updates` are applied automatically.\n",
            "  warnings.warn('`Model.state_updates` will be removed in a future version. '\n"
          ],
          "name": "stderr"
        },
        {
          "output_type": "execute_result",
          "data": {
            "text/plain": [
              "0.6306417788655808"
            ]
          },
          "metadata": {
            "tags": []
          },
          "execution_count": 77
        }
      ]
    },
    {
      "cell_type": "code",
      "metadata": {
        "id": "FY0_scbrPJZd"
      },
      "source": [
        ""
      ],
      "execution_count": null,
      "outputs": []
    },
    {
      "cell_type": "code",
      "metadata": {
        "colab": {
          "base_uri": "https://localhost:8080/"
        },
        "id": "LUW_2tOImhNa",
        "outputId": "729c0aeb-00a7-4760-d4b6-b72641dc1fbe"
      },
      "source": [
        "#Resampling:\n",
        "[x_train_resample, y_train_resample] = SMOTE().fit_resample(x_train, y_train)\n",
        "\n",
        "#model fitting:\n",
        "m_h = news_ANN.fit(x_train_resample, y_train_resample, epochs=400, \\\n",
        "validation_data=(x_test, y_test), batch_size=32, verbose=0)"
      ],
      "execution_count": null,
      "outputs": [
        {
          "output_type": "stream",
          "text": [
            "/usr/local/lib/python3.7/dist-packages/sklearn/utils/deprecation.py:87: FutureWarning: Function safe_indexing is deprecated; safe_indexing is deprecated in version 0.22 and will be removed in version 0.24.\n",
            "  warnings.warn(msg, category=FutureWarning)\n",
            "/usr/local/lib/python3.7/dist-packages/sklearn/utils/deprecation.py:87: FutureWarning: Function safe_indexing is deprecated; safe_indexing is deprecated in version 0.22 and will be removed in version 0.24.\n",
            "  warnings.warn(msg, category=FutureWarning)\n",
            "/usr/local/lib/python3.7/dist-packages/sklearn/utils/deprecation.py:87: FutureWarning: Function safe_indexing is deprecated; safe_indexing is deprecated in version 0.22 and will be removed in version 0.24.\n",
            "  warnings.warn(msg, category=FutureWarning)\n"
          ],
          "name": "stderr"
        }
      ]
    },
    {
      "cell_type": "code",
      "metadata": {
        "id": "T2ZMZformjTh"
      },
      "source": [
        "from sklearn.metrics import confusion_matrix"
      ],
      "execution_count": null,
      "outputs": []
    },
    {
      "cell_type": "code",
      "metadata": {
        "colab": {
          "base_uri": "https://localhost:8080/",
          "height": 1000
        },
        "id": "pLtlTecdmk6k",
        "outputId": "d51772be-5b33-4648-cf83-d7bcccb0e09a"
      },
      "source": [
        "# Plot accuracy curves:\n",
        "with sns.color_palette(\"Accent\", n_colors=8):\n",
        "    plt.figure(figsize=(8,6))\n",
        "    sns.lineplot(data=np.asarray(m_h.history['acc']))\n",
        "    sns.lineplot(data=np.asarray(m_h.history['val_acc']))\n",
        "    plt.xlabel(\"Epochs\")\n",
        "    plt.ylabel(\"Accuracy\")\n",
        "    plt.title(\"Accuracy for Media Outlet Classification\") # change title here\n",
        "    plt.legend(labels=['training', 'validation'],loc='lower right')\n",
        "    plt.text(330,0.755,'val Ac = ' + str(round(f1_score(y_test,news_ANN.predict_classes(x_test),average='weighted')))) \n",
        "    plt.savefig('outlets_bias_acc.svg',format='svg') # edit file title here\n",
        "\n",
        "# Plot confusion matrix:\n",
        "plt.figure(figsize=(4, 3))\n",
        "sns.heatmap(confusion_matrix(y_test,news_ANN.predict_classes(x_test)),annot=True,linewidths=2, cmap=\"YlGnBu\",fmt=\"g\", xticklabels=['Atlantic','Business Insider','Breitbart','New York Times'], yticklabels=['Atlantic','Business Insider','Breitbart','New York Times'])\n",
        "plt.autoscale()\n",
        "plt.savefig('confusion_matrix_outlet_bias_bal.png',format='PNG',bbox_inches = \"tight\") # edit file title here\n",
        "\n",
        "# Plot loss curves:\n",
        "with sns.color_palette(\"Accent\", n_colors=8):\n",
        "    plt.figure(figsize=(8,6))\n",
        "    sns.lineplot(data=np.asarray(m_h.history['loss']))\n",
        "    sns.lineplot(data=np.asarray(m_h.history['loss']))\n",
        "    plt.xlabel(\"Epochs\")\n",
        "    plt.ylabel(\"Loss\")\n",
        "    plt.title(\"Loss functions for Media Outlet Classification\") \n",
        "    plt.legend(labels=['training', 'validation'])\n",
        "    plt.savefig('outlets_bias_loss.svg',format='SVG') \n"
      ],
      "execution_count": null,
      "outputs": [
        {
          "output_type": "stream",
          "text": [
            "/usr/local/lib/python3.7/dist-packages/tensorflow/python/keras/engine/sequential.py:450: UserWarning: `model.predict_classes()` is deprecated and will be removed after 2021-01-01. Please use instead:* `np.argmax(model.predict(x), axis=-1)`,   if your model does multi-class classification   (e.g. if it uses a `softmax` last-layer activation).* `(model.predict(x) > 0.5).astype(\"int32\")`,   if your model does binary classification   (e.g. if it uses a `sigmoid` last-layer activation).\n",
            "  warnings.warn('`model.predict_classes()` is deprecated and '\n"
          ],
          "name": "stderr"
        },
        {
          "output_type": "display_data",
          "data": {
            "image/png": "[encoded data removed]",
            "text/plain": [
              "<Figure size 576x432 with 1 Axes>"
            ]
          },
          "metadata": {
            "tags": [],
            "needs_background": "light"
          }
        },
        {
          "output_type": "display_data",
          "data": {
            "image/png": "[encoded data removed]",
            "text/plain": [
              "<Figure size 288x216 with 2 Axes>"
            ]
          },
          "metadata": {
            "tags": [],
            "needs_background": "light"
          }
        },
        {
          "output_type": "display_data",
          "data": {
            "image/png": "[encoded data removed]",
            "text/plain": [
              "<Figure size 576x432 with 1 Axes>"
            ]
          },
          "metadata": {
            "tags": [],
            "needs_background": "light"
          }
        }
      ]
    },
    {
      "cell_type": "markdown",
      "metadata": {
        "id": "iKDNGtGgmuSq"
      },
      "source": [
        ""
      ]
    },
    {
      "cell_type": "code",
      "metadata": {
        "id": "wrdwE2fQgyEu"
      },
      "source": [
        "from sklearn.linear_model import LogisticRegression\n",
        "from sklearn.feature_selection import RFE\n",
        "from sklearn.tree import DecisionTreeClassifier\n",
        "import graphviz\n",
        "from sklearn.model_selection import cross_val_score\n",
        "from sklearn.ensemble import RandomForestClassifier\n",
        "from sklearn.feature_selection import RFE\n",
        "from sklearn.neighbors import KNeighborsClassifier\n",
        "from sklearn.naive_bayes import GaussianNB\n",
        "from sklearn.svm import SVC, LinearSVC\n",
        "from sklearn import svm\n",
        "from sklearn.feature_selection import RFE\n",
        "from sklearn.tree import DecisionTreeClassifier"
      ],
      "execution_count": null,
      "outputs": []
    },
    {
      "cell_type": "code",
      "metadata": {
        "id": "r019sSmJLYeN",
        "colab": {
          "base_uri": "https://localhost:8080/"
        },
        "outputId": "211eaeb6-8ce1-47ad-87c5-e87b4ce9a91e"
      },
      "source": [
        "#Implementing MAchine Learning Models\n",
        "#Implement Decision Tree:\n",
        "#Plot the decision tree\n",
        "decision_tree = DecisionTreeClassifier(max_depth=5)\n",
        "decision_tree.fit(x_train, y_train)\n",
        "Y_prediction = decision_tree.predict(x_train)\n",
        "accuracy_decision_tree = round(decision_tree.score(x_train, y_train) * 100, 2)\n",
        "print(accuracy_decision_tree)"
      ],
      "execution_count": null,
      "outputs": [
        {
          "output_type": "stream",
          "text": [
            "66.25\n"
          ],
          "name": "stdout"
        }
      ]
    },
    {
      "cell_type": "code",
      "metadata": {
        "id": "ap7toZx0Pfh3",
        "colab": {
          "base_uri": "https://localhost:8080/"
        },
        "outputId": "c12464b8-d2a5-40a0-9668-1ff7b205edbe"
      },
      "source": [
        "#Implementing Logistic Regression\n",
        "#Logistic Regression\n",
        "logreg = LogisticRegression()\n",
        "logreg.fit(x_train, y_train)\n",
        "Y_pred = logreg.predict(x_test)\n",
        "acc_log = round(logreg.score(x_train, y_train) * 100, 2)\n",
        "print(acc_log)"
      ],
      "execution_count": null,
      "outputs": [
        {
          "output_type": "stream",
          "text": [
            "73.23\n"
          ],
          "name": "stdout"
        },
        {
          "output_type": "stream",
          "text": [
            "/usr/local/lib/python3.7/dist-packages/sklearn/linear_model/_logistic.py:940: ConvergenceWarning: lbfgs failed to converge (status=1):\n",
            "STOP: TOTAL NO. of ITERATIONS REACHED LIMIT.\n",
            "\n",
            "Increase the number of iterations (max_iter) or scale the data as shown in:\n",
            "    https://scikit-learn.org/stable/modules/preprocessing.html\n",
            "Please also refer to the documentation for alternative solver options:\n",
            "    https://scikit-learn.org/stable/modules/linear_model.html#logistic-regression\n",
            "  extra_warning_msg=_LOGISTIC_SOLVER_CONVERGENCE_MSG)\n"
          ],
          "name": "stderr"
        }
      ]
    },
    {
      "cell_type": "code",
      "metadata": {
        "colab": {
          "base_uri": "https://localhost:8080/"
        },
        "id": "M4Wa-V7DPfRg",
        "outputId": "42768f8f-07bc-4e26-f32d-66f1f6dc740b"
      },
      "source": [
        "# Support Vector Machines\n",
        "svc = SVC()\n",
        "svc.fit(x_train, y_train)\n",
        "Y_predSVM = svc.predict(x_test)\n",
        "acc_svc = round(svc.score(x_train, y_train) * 100, 2)\n",
        "acc_svc"
      ],
      "execution_count": null,
      "outputs": [
        {
          "output_type": "execute_result",
          "data": {
            "text/plain": [
              "77.03"
            ]
          },
          "metadata": {
            "tags": []
          },
          "execution_count": 84
        }
      ]
    },
    {
      "cell_type": "code",
      "metadata": {
        "colab": {
          "base_uri": "https://localhost:8080/"
        },
        "id": "jDII4ooePe92",
        "outputId": "56bf4215-69d9-46aa-d4e5-20c576ea7b90"
      },
      "source": [
        "knn = KNeighborsClassifier(n_neighbors = 3)\n",
        "knn.fit(x_train, y_train)\n",
        "Y_predKNN = knn.predict(x_test)\n",
        "acc_knn = round(knn.score(x_train, y_train) * 100, 2)\n",
        "print(acc_knn)"
      ],
      "execution_count": null,
      "outputs": [
        {
          "output_type": "stream",
          "text": [
            "78.45\n"
          ],
          "name": "stdout"
        }
      ]
    },
    {
      "cell_type": "code",
      "metadata": {
        "colab": {
          "base_uri": "https://localhost:8080/"
        },
        "id": "kr_5WGEFQrra",
        "outputId": "e822d2c4-c8c7-4049-8d60-c05d222496a3"
      },
      "source": [
        "# Gaussian Naive Bayes\n",
        "\n",
        "gaussian = GaussianNB()\n",
        "gaussian.fit(x_train, y_train)\n",
        "Y_pred = gaussian.predict(x_test)\n",
        "acc_gaussian = round(gaussian.score(x_train, y_train) * 100, 2)\n",
        "print(acc_gaussian)"
      ],
      "execution_count": null,
      "outputs": [
        {
          "output_type": "stream",
          "text": [
            "34.39\n"
          ],
          "name": "stdout"
        }
      ]
    },
    {
      "cell_type": "code",
      "metadata": {
        "colab": {
          "base_uri": "https://localhost:8080/"
        },
        "id": "YoiXek9UQrcc",
        "outputId": "d4f6c394-a090-4bd1-8a59-9cb11ff90340"
      },
      "source": [
        "# Linear SVC\n",
        "\n",
        "linear_svc = LinearSVC(max_iter=10000)\n",
        "linear_svc.fit(x_train, y_train)\n",
        "Y_pred = linear_svc.predict(x_test)\n",
        "acc_linear_svc = round(linear_svc.score(x_train, y_train) * 100, 2)\n",
        "print(acc_linear_svc)"
      ],
      "execution_count": null,
      "outputs": [
        {
          "output_type": "stream",
          "text": [
            "73.88\n"
          ],
          "name": "stdout"
        },
        {
          "output_type": "stream",
          "text": [
            "/usr/local/lib/python3.7/dist-packages/sklearn/svm/_base.py:947: ConvergenceWarning: Liblinear failed to converge, increase the number of iterations.\n",
            "  \"the number of iterations.\", ConvergenceWarning)\n"
          ],
          "name": "stderr"
        }
      ]
    },
    {
      "cell_type": "code",
      "metadata": {
        "colab": {
          "base_uri": "https://localhost:8080/"
        },
        "id": "WV7bUkgJQrN-",
        "outputId": "a974f8e8-4fdc-4ecf-e0d9-93f738e76f17"
      },
      "source": [
        "# Stochastic Gradient Descent\n",
        "\n",
        "sgd = SGDClassifier()\n",
        "sgd.fit(x_train, y_train)\n",
        "Y_pred = sgd.predict(x_test)\n",
        "acc_sgd = round(sgd.score(x_train, y_train) * 100, 2)\n",
        "print(acc_sgd)"
      ],
      "execution_count": null,
      "outputs": [
        {
          "output_type": "stream",
          "text": [
            "68.22\n"
          ],
          "name": "stdout"
        }
      ]
    },
    {
      "cell_type": "code",
      "metadata": {
        "colab": {
          "base_uri": "https://localhost:8080/",
          "height": 254
        },
        "id": "tHyIuyXeQ1Iu",
        "outputId": "da941584-eaa7-4049-80c4-7caebfe7fe97"
      },
      "source": [
        "models = pd.DataFrame({\n",
        "    'Model' : ['Support Vector Machines', 'KNN', 'Logistic Regression',\n",
        "               'Gaussian', 'Stochastic Gradient Decent', 'Linear SVC',\n",
        "               'Decision Tree'],\n",
        "    'Score' : [acc_svc,acc_knn,acc_log,acc_gaussian,acc_sgd,acc_linear_svc,accuracy_decision_tree]})\n",
        "models.sort_values(by='Score', ascending=False)"
      ],
      "execution_count": null,
      "outputs": [
        {
          "output_type": "execute_result",
          "data": {
            "text/html": [
              "<div>\n",
              "<style scoped>\n",
              "    .dataframe tbody tr th:only-of-type {\n",
              "        vertical-align: middle;\n",
              "    }\n",
              "\n",
              "    .dataframe tbody tr th {\n",
              "        vertical-align: top;\n",
              "    }\n",
              "\n",
              "    .dataframe thead th {\n",
              "        text-align: right;\n",
              "    }\n",
              "</style>\n",
              "<table border=\"1\" class=\"dataframe\">\n",
              "  <thead>\n",
              "    <tr style=\"text-align: right;\">\n",
              "      <th></th>\n",
              "      <th>Model</th>\n",
              "      <th>Score</th>\n",
              "    </tr>\n",
              "  </thead>\n",
              "  <tbody>\n",
              "    <tr>\n",
              "      <th>1</th>\n",
              "      <td>KNN</td>\n",
              "      <td>78.45</td>\n",
              "    </tr>\n",
              "    <tr>\n",
              "      <th>0</th>\n",
              "      <td>Support Vector Machines</td>\n",
              "      <td>77.03</td>\n",
              "    </tr>\n",
              "    <tr>\n",
              "      <th>5</th>\n",
              "      <td>Linear SVC</td>\n",
              "      <td>73.88</td>\n",
              "    </tr>\n",
              "    <tr>\n",
              "      <th>2</th>\n",
              "      <td>Logistic Regression</td>\n",
              "      <td>73.23</td>\n",
              "    </tr>\n",
              "    <tr>\n",
              "      <th>4</th>\n",
              "      <td>Stochastic Gradient Decent</td>\n",
              "      <td>68.22</td>\n",
              "    </tr>\n",
              "    <tr>\n",
              "      <th>6</th>\n",
              "      <td>Decision Tree</td>\n",
              "      <td>66.25</td>\n",
              "    </tr>\n",
              "    <tr>\n",
              "      <th>3</th>\n",
              "      <td>Gaussian</td>\n",
              "      <td>34.39</td>\n",
              "    </tr>\n",
              "  </tbody>\n",
              "</table>\n",
              "</div>"
            ],
            "text/plain": [
              "                        Model  Score\n",
              "1                         KNN  78.45\n",
              "0     Support Vector Machines  77.03\n",
              "5                  Linear SVC  73.88\n",
              "2         Logistic Regression  73.23\n",
              "4  Stochastic Gradient Decent  68.22\n",
              "6               Decision Tree  66.25\n",
              "3                    Gaussian  34.39"
            ]
          },
          "metadata": {
            "tags": []
          },
          "execution_count": 89
        }
      ]
    },
    {
      "cell_type": "markdown",
      "metadata": {
        "id": "IFSjiaOIbfiV"
      },
      "source": [
        "Media Bias Classifier"
      ]
    },
    {
      "cell_type": "code",
      "metadata": {
        "id": "E-4huydkZkAt"
      },
      "source": [
        ""
      ],
      "execution_count": null,
      "outputs": []
    },
    {
      "cell_type": "code",
      "metadata": {
        "id": "wCZERg3LZmj5"
      },
      "source": [
        "#Media Bias classifier"
      ],
      "execution_count": null,
      "outputs": []
    },
    {
      "cell_type": "code",
      "metadata": {
        "id": "feokO4kOZo5y"
      },
      "source": [
        "# split into shuffled folds:\n",
        "#Note that you should edit the class array accordingly: Bias (classes_Bias) or Outlet (classes_All)\n",
        "#Scaler = MinMaxScaler()\n",
        "import sklearn\n",
        "split_shuffle = StratifiedShuffleSplit(n_splits=1, test_size=0.33) # choose one split to make analysis faster. change it if required\n",
        "for train, test in split_shuffle.split(feature_array,classes_bias_classifier):\n",
        "  # Scale the data with StandardScaler before splitting:\n",
        "    x_train, x_test = sklearn.preprocessing.StandardScaler().fit_transform(feature_array)[train], \\\n",
        "    sklearn.preprocessing.StandardScaler().fit_transform(feature_array)[test]\n",
        "\n",
        "    y_train, y_test = classes_bias_classifier[train]-1,classes_bias_classifier[test]-1\n"
      ],
      "execution_count": null,
      "outputs": []
    },
    {
      "cell_type": "code",
      "metadata": {
        "id": "0ga_Cxt2Zqqa"
      },
      "source": [
        "#fit the network. You can change parameters to see how this affects your training.\n",
        "m_h = news_ANN.fit(x_train, y_train, epochs=400, \\\n",
        "validation_data=(x_test, y_test), batch_size=32, verbose=0)"
      ],
      "execution_count": null,
      "outputs": []
    },
    {
      "cell_type": "code",
      "metadata": {
        "colab": {
          "base_uri": "https://localhost:8080/"
        },
        "id": "C52qc355Zsg5",
        "outputId": "d1a17258-1359-4a96-a829-764685b34559"
      },
      "source": [
        "from sklearn.metrics import f1_score\n",
        "f1_score(y_test,news_ANN.predict_classes(x_test),average='weighted')"
      ],
      "execution_count": null,
      "outputs": [
        {
          "output_type": "stream",
          "text": [
            "/usr/local/lib/python3.7/dist-packages/tensorflow/python/keras/engine/sequential.py:450: UserWarning: `model.predict_classes()` is deprecated and will be removed after 2021-01-01. Please use instead:* `np.argmax(model.predict(x), axis=-1)`,   if your model does multi-class classification   (e.g. if it uses a `softmax` last-layer activation).* `(model.predict(x) > 0.5).astype(\"int32\")`,   if your model does binary classification   (e.g. if it uses a `sigmoid` last-layer activation).\n",
            "  warnings.warn('`model.predict_classes()` is deprecated and '\n"
          ],
          "name": "stderr"
        },
        {
          "output_type": "execute_result",
          "data": {
            "text/plain": [
              "0.8725685279585262"
            ]
          },
          "metadata": {
            "tags": []
          },
          "execution_count": 93
        }
      ]
    },
    {
      "cell_type": "code",
      "metadata": {
        "colab": {
          "base_uri": "https://localhost:8080/"
        },
        "id": "__wXMFIDZuLx",
        "outputId": "b8be6cc7-5af1-4cbb-c5bd-d5935b49f485"
      },
      "source": [
        "#Resampling:\n",
        "[x_train_resample, y_train_resample] = SMOTE().fit_resample(x_train, y_train)\n",
        "\n",
        "#model fitting:\n",
        "m_h = news_ANN.fit(x_train_resample, y_train_resample, epochs=400, \\\n",
        "validation_data=(x_test, y_test), batch_size=32, verbose=0)"
      ],
      "execution_count": null,
      "outputs": [
        {
          "output_type": "stream",
          "text": [
            "/usr/local/lib/python3.7/dist-packages/sklearn/utils/deprecation.py:87: FutureWarning: Function safe_indexing is deprecated; safe_indexing is deprecated in version 0.22 and will be removed in version 0.24.\n",
            "  warnings.warn(msg, category=FutureWarning)\n"
          ],
          "name": "stderr"
        }
      ]
    },
    {
      "cell_type": "code",
      "metadata": {
        "id": "3VpFuxxOZw1U"
      },
      "source": [
        "from sklearn.metrics import confusion_matrix"
      ],
      "execution_count": null,
      "outputs": []
    },
    {
      "cell_type": "code",
      "metadata": {
        "colab": {
          "base_uri": "https://localhost:8080/",
          "height": 1000
        },
        "id": "UslmtWObUXE8",
        "outputId": "bdd17dce-2a14-4aa1-9117-ace28041509b"
      },
      "source": [
        "# Plot accuracy curves:\n",
        "with sns.color_palette(\"Accent\", n_colors=8):\n",
        "    plt.figure(figsize=(8,6))\n",
        "    sns.lineplot(data=np.asarray(m_h.history['acc']))\n",
        "    sns.lineplot(data=np.asarray(m_h.history['val_acc']))\n",
        "    plt.xlabel(\"Epochs\")\n",
        "    plt.ylabel(\"Accuracy\")\n",
        "    plt.title(\"Accuracy for Media Bias Classification\") # change title here\n",
        "    plt.legend(labels=['training', 'validation'],loc='lower right')\n",
        "    plt.text(330,0.755,'val Ac = ' + str(round(f1_score(y_test,news_ANN.predict_classes(x_test),average='weighted')))) \n",
        "    plt.savefig('outlets_bias_acc.svg',format='svg') # edit file title here\n",
        "\n",
        "# Plot confusion matrix:\n",
        "plt.figure(figsize=(4, 3))\n",
        "sns.heatmap(confusion_matrix(y_test,news_ANN.predict_classes(x_test)),annot=True,linewidths=2, cmap=\"YlGnBu\",fmt=\"g\", xticklabels=['Right','Left'],yticklabels=['Right','Left']) \n",
        "plt.autoscale()\n",
        "plt.savefig('confusion_matrix_outlet_bias_bal.png',format='PNG',bbox_inches = \"tight\") # edit file title here\n",
        "\n",
        "\n",
        "# Plot loss curves:\n",
        "with sns.color_palette(\"Accent\", n_colors=8):\n",
        "    plt.figure(figsize=(8,6))\n",
        "    sns.lineplot(data=np.asarray(m_h.history['loss']))\n",
        "    sns.lineplot(data=np.asarray(m_h.history['loss']))\n",
        "    plt.xlabel(\"Epochs\")\n",
        "    plt.ylabel(\"Loss\")\n",
        "    plt.title(\"Loss functions for Media Bias Classification\") #change title here\n",
        "    plt.legend(labels=['training', 'validation'])\n",
        "    plt.savefig('outlets_bias_loss.svg',format='SVG') # edit file title here\n"
      ],
      "execution_count": null,
      "outputs": [
        {
          "output_type": "stream",
          "text": [
            "/usr/local/lib/python3.7/dist-packages/tensorflow/python/keras/engine/sequential.py:450: UserWarning: `model.predict_classes()` is deprecated and will be removed after 2021-01-01. Please use instead:* `np.argmax(model.predict(x), axis=-1)`,   if your model does multi-class classification   (e.g. if it uses a `softmax` last-layer activation).* `(model.predict(x) > 0.5).astype(\"int32\")`,   if your model does binary classification   (e.g. if it uses a `sigmoid` last-layer activation).\n",
            "  warnings.warn('`model.predict_classes()` is deprecated and '\n"
          ],
          "name": "stderr"
        },
        {
          "output_type": "display_data",
          "data": {
            "image/png": "[encoded data removed]",
            "text/plain": [
              "<Figure size 576x432 with 1 Axes>"
            ]
          },
          "metadata": {
            "tags": [],
            "needs_background": "light"
          }
        },
        {
          "output_type": "display_data",
          "data": {
            "image/png": "[encoded data removed]",
            "text/plain": [
              "<Figure size 288x216 with 2 Axes>"
            ]
          },
          "metadata": {
            "tags": [],
            "needs_background": "light"
          }
        },
        {
          "output_type": "display_data",
          "data": {
            "image/png": "[encoded data removed]",
            "text/plain": [
              "<Figure size 576x432 with 1 Axes>"
            ]
          },
          "metadata": {
            "tags": [],
            "needs_background": "light"
          }
        }
      ]
    },
    {
      "cell_type": "code",
      "metadata": {
        "id": "cAaafvFoImdg"
      },
      "source": [
        "from sklearn.linear_model import LogisticRegression\n",
        "from sklearn.feature_selection import RFE\n",
        "from sklearn.tree import DecisionTreeClassifier\n",
        "import graphviz\n",
        "from sklearn.model_selection import cross_val_score\n",
        "from sklearn.ensemble import RandomForestClassifier\n",
        "from sklearn.feature_selection import RFE\n",
        "from sklearn.neighbors import KNeighborsClassifier"
      ],
      "execution_count": null,
      "outputs": []
    },
    {
      "cell_type": "code",
      "metadata": {
        "colab": {
          "base_uri": "https://localhost:8080/"
        },
        "id": "XuAiEMu2IsUK",
        "outputId": "d899560d-be63-4293-c27b-b2fa0b3c88de"
      },
      "source": [
        "#Implementing MAchine Learning Models\n",
        "#Implement Decision Tree:\n",
        "#Plot the decision tree\n",
        "decision_tree = DecisionTreeClassifier(max_depth=5)\n",
        "decision_tree.fit(x_train, y_train)\n",
        "Y_prediction = decision_tree.predict(x_train)\n",
        "accuracy_decision_tree = round(decision_tree.score(x_train, y_train) * 100, 2)\n",
        "print(accuracy_decision_tree)"
      ],
      "execution_count": null,
      "outputs": [
        {
          "output_type": "stream",
          "text": [
            "83.18\n"
          ],
          "name": "stdout"
        }
      ]
    },
    {
      "cell_type": "code",
      "metadata": {
        "colab": {
          "base_uri": "https://localhost:8080/"
        },
        "id": "dXa5H9qES5eR",
        "outputId": "fdd04806-0a8e-41d9-c7b7-ec5ed486bef4"
      },
      "source": [
        "#Implementing Logistic Regression\n",
        "#Logistic Regression\n",
        "logreg = LogisticRegression()\n",
        "logreg.fit(x_train, y_train)\n",
        "Y_pred = logreg.predict(x_test)\n",
        "acc_log = round(logreg.score(x_train, y_train) * 100, 2)\n",
        "acc_log"
      ],
      "execution_count": null,
      "outputs": [
        {
          "output_type": "stream",
          "text": [
            "/usr/local/lib/python3.7/dist-packages/sklearn/linear_model/_logistic.py:940: ConvergenceWarning: lbfgs failed to converge (status=1):\n",
            "STOP: TOTAL NO. of ITERATIONS REACHED LIMIT.\n",
            "\n",
            "Increase the number of iterations (max_iter) or scale the data as shown in:\n",
            "    https://scikit-learn.org/stable/modules/preprocessing.html\n",
            "Please also refer to the documentation for alternative solver options:\n",
            "    https://scikit-learn.org/stable/modules/linear_model.html#logistic-regression\n",
            "  extra_warning_msg=_LOGISTIC_SOLVER_CONVERGENCE_MSG)\n"
          ],
          "name": "stderr"
        },
        {
          "output_type": "execute_result",
          "data": {
            "text/plain": [
              "89.96"
            ]
          },
          "metadata": {
            "tags": []
          },
          "execution_count": 99
        }
      ]
    },
    {
      "cell_type": "code",
      "metadata": {
        "colab": {
          "base_uri": "https://localhost:8080/"
        },
        "id": "8J8tHeP8S6rD",
        "outputId": "9b992115-56e0-455f-85bd-939c46c60aa2"
      },
      "source": [
        "# Support Vector Machines\n",
        "svc = SVC()\n",
        "svc.fit(x_train, y_train)\n",
        "Y_predSVM = svc.predict(x_test)\n",
        "acc_svc = round(svc.score(x_train, y_train) * 100, 2)\n",
        "acc_svc"
      ],
      "execution_count": null,
      "outputs": [
        {
          "output_type": "execute_result",
          "data": {
            "text/plain": [
              "93.33"
            ]
          },
          "metadata": {
            "tags": []
          },
          "execution_count": 100
        }
      ]
    },
    {
      "cell_type": "code",
      "metadata": {
        "colab": {
          "base_uri": "https://localhost:8080/"
        },
        "id": "csgdV9MWS6m2",
        "outputId": "ec8f30a3-b5b2-4f88-86d0-524f73abf71a"
      },
      "source": [
        "knn = KNeighborsClassifier(n_neighbors = 3)\n",
        "knn.fit(x_train, y_train)\n",
        "Y_predKNN = knn.predict(x_test)\n",
        "acc_knn = round(knn.score(x_train, y_train) * 100, 2)\n",
        "acc_knn"
      ],
      "execution_count": null,
      "outputs": [
        {
          "output_type": "execute_result",
          "data": {
            "text/plain": [
              "90.69"
            ]
          },
          "metadata": {
            "tags": []
          },
          "execution_count": 101
        }
      ]
    },
    {
      "cell_type": "code",
      "metadata": {
        "colab": {
          "base_uri": "https://localhost:8080/"
        },
        "id": "v9GSwdfkS6kv",
        "outputId": "132ff5b4-bc30-4bfb-bdeb-5877aabb2b80"
      },
      "source": [
        "# Gaussian Naive Bayes\n",
        "\n",
        "gaussian = GaussianNB()\n",
        "gaussian.fit(x_train, y_train)\n",
        "Y_pred = gaussian.predict(x_test)\n",
        "acc_gaussian = round(gaussian.score(x_train, y_train) * 100, 2)\n",
        "acc_gaussian"
      ],
      "execution_count": null,
      "outputs": [
        {
          "output_type": "execute_result",
          "data": {
            "text/plain": [
              "68.29"
            ]
          },
          "metadata": {
            "tags": []
          },
          "execution_count": 102
        }
      ]
    },
    {
      "cell_type": "code",
      "metadata": {
        "colab": {
          "base_uri": "https://localhost:8080/"
        },
        "id": "4KWdy0HHS6gk",
        "outputId": "11f9f1e7-41f4-404f-d7bb-c89ceb907abe"
      },
      "source": [
        "# Linear SVC\n",
        "\n",
        "linear_svc = LinearSVC(max_iter=10000)\n",
        "linear_svc.fit(x_train, y_train)\n",
        "Y_pred = linear_svc.predict(x_test)\n",
        "acc_linear_svc = round(linear_svc.score(x_train, y_train) * 100, 2)\n",
        "acc_linear_svc"
      ],
      "execution_count": null,
      "outputs": [
        {
          "output_type": "stream",
          "text": [
            "/usr/local/lib/python3.7/dist-packages/sklearn/svm/_base.py:947: ConvergenceWarning: Liblinear failed to converge, increase the number of iterations.\n",
            "  \"the number of iterations.\", ConvergenceWarning)\n"
          ],
          "name": "stderr"
        },
        {
          "output_type": "execute_result",
          "data": {
            "text/plain": [
              "90.49"
            ]
          },
          "metadata": {
            "tags": []
          },
          "execution_count": 103
        }
      ]
    },
    {
      "cell_type": "code",
      "metadata": {
        "colab": {
          "base_uri": "https://localhost:8080/"
        },
        "id": "TitmfNE4S6eh",
        "outputId": "028301f4-9e46-4334-a250-4f076f980314"
      },
      "source": [
        "# Stochastic Gradient Descent\n",
        "\n",
        "sgd = SGDClassifier()\n",
        "sgd.fit(x_train, y_train)\n",
        "Y_pred = sgd.predict(x_test)\n",
        "acc_sgd = round(sgd.score(x_train, y_train) * 100, 2)\n",
        "acc_sgd"
      ],
      "execution_count": null,
      "outputs": [
        {
          "output_type": "execute_result",
          "data": {
            "text/plain": [
              "86.82"
            ]
          },
          "metadata": {
            "tags": []
          },
          "execution_count": 104
        }
      ]
    },
    {
      "cell_type": "code",
      "metadata": {
        "colab": {
          "base_uri": "https://localhost:8080/",
          "height": 254
        },
        "id": "tdR-eBBcS6ah",
        "outputId": "d2a82d39-0290-4ca3-c1c4-b798f5be08e5"
      },
      "source": [
        "models = pd.DataFrame({\n",
        "    'Model': ['Support Vector Machines', 'KNN', 'Logistic Regression', \n",
        "              'Naive Bayes',  \n",
        "              'Stochastic Gradient Decent', 'Linear SVC', \n",
        "              'Decision Tree'],\n",
        "    'Score': [acc_svc, acc_knn, acc_log, \n",
        "               acc_gaussian, \n",
        "              acc_sgd, acc_linear_svc, accuracy_decision_tree]})\n",
        "models.sort_values(by='Score', ascending=False)"
      ],
      "execution_count": null,
      "outputs": [
        {
          "output_type": "execute_result",
          "data": {
            "text/html": [
              "<div>\n",
              "<style scoped>\n",
              "    .dataframe tbody tr th:only-of-type {\n",
              "        vertical-align: middle;\n",
              "    }\n",
              "\n",
              "    .dataframe tbody tr th {\n",
              "        vertical-align: top;\n",
              "    }\n",
              "\n",
              "    .dataframe thead th {\n",
              "        text-align: right;\n",
              "    }\n",
              "</style>\n",
              "<table border=\"1\" class=\"dataframe\">\n",
              "  <thead>\n",
              "    <tr style=\"text-align: right;\">\n",
              "      <th></th>\n",
              "      <th>Model</th>\n",
              "      <th>Score</th>\n",
              "    </tr>\n",
              "  </thead>\n",
              "  <tbody>\n",
              "    <tr>\n",
              "      <th>0</th>\n",
              "      <td>Support Vector Machines</td>\n",
              "      <td>93.33</td>\n",
              "    </tr>\n",
              "    <tr>\n",
              "      <th>1</th>\n",
              "      <td>KNN</td>\n",
              "      <td>90.69</td>\n",
              "    </tr>\n",
              "    <tr>\n",
              "      <th>5</th>\n",
              "      <td>Linear SVC</td>\n",
              "      <td>90.49</td>\n",
              "    </tr>\n",
              "    <tr>\n",
              "      <th>2</th>\n",
              "      <td>Logistic Regression</td>\n",
              "      <td>89.96</td>\n",
              "    </tr>\n",
              "    <tr>\n",
              "      <th>4</th>\n",
              "      <td>Stochastic Gradient Decent</td>\n",
              "      <td>86.82</td>\n",
              "    </tr>\n",
              "    <tr>\n",
              "      <th>6</th>\n",
              "      <td>Decision Tree</td>\n",
              "      <td>83.18</td>\n",
              "    </tr>\n",
              "    <tr>\n",
              "      <th>3</th>\n",
              "      <td>Naive Bayes</td>\n",
              "      <td>68.29</td>\n",
              "    </tr>\n",
              "  </tbody>\n",
              "</table>\n",
              "</div>"
            ],
            "text/plain": [
              "                        Model  Score\n",
              "0     Support Vector Machines  93.33\n",
              "1                         KNN  90.69\n",
              "5                  Linear SVC  90.49\n",
              "2         Logistic Regression  89.96\n",
              "4  Stochastic Gradient Decent  86.82\n",
              "6               Decision Tree  83.18\n",
              "3                 Naive Bayes  68.29"
            ]
          },
          "metadata": {
            "tags": []
          },
          "execution_count": 105
        }
      ]
    },
    {
      "cell_type": "code",
      "metadata": {
        "id": "gsLCDP0IS6YK"
      },
      "source": [
        ""
      ],
      "execution_count": null,
      "outputs": []
    },
    {
      "cell_type": "code",
      "metadata": {
        "id": "XNVq36MYS6Uc"
      },
      "source": [
        ""
      ],
      "execution_count": null,
      "outputs": []
    },
    {
      "cell_type": "code",
      "metadata": {
        "id": "5-JNxS5aS6HK"
      },
      "source": [
        ""
      ],
      "execution_count": null,
      "outputs": []
    }
  ]
}